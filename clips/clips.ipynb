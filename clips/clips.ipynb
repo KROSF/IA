{
 "cells": [
  {
   "cell_type": "code",
   "execution_count": 2,
   "metadata": {},
   "outputs": [
    {
     "name": "stdout",
     "output_type": "stream",
     "text": []
    }
   ],
   "source": [
    "(deftemplate coche\n",
    "    (multislot modelo)\n",
    "    (slot precio (type INTEGER))\n",
    "    (slot maletero (allowed-values pequeno mediano grande))\n",
    "    (slot caballo (type INTEGER))\n",
    "    (slot abs (allowed-values si no))\n",
    "    (slot consumo (type FLOAT))\n",
    ")"
   ]
  },
  {
   "cell_type": "code",
   "execution_count": 3,
   "metadata": {},
   "outputs": [
    {
     "name": "stdout",
     "output_type": "stream",
     "text": []
    }
   ],
   "source": [
    "(deftemplate usuario\n",
    "    (slot u_precio (type INTEGER)(default 13000))\n",
    "    (slot u_maletero (allowed-values pequeno mediano grande)(default grande))\n",
    "    (slot u_caballo (type INTEGER)(default 80))\n",
    "    (slot u_abs (allowed-values si no)(default si))\n",
    "    (slot u_consumo (type FLOAT)(default 8.0))\n",
    ")"
   ]
  },
  {
   "cell_type": "code",
   "execution_count": 4,
   "metadata": {},
   "outputs": [
    {
     "name": "stdout",
     "output_type": "stream",
     "text": []
    }
   ],
   "source": [
    "(deffacts iniciales\n",
    "    (coche\n",
    "        (modelo modelo1)\n",
    "        (precio 12000)\n",
    "        (maletero pequeno)\n",
    "        (caballo 65)\n",
    "        (abs no)\n",
    "        (consumo 4.7)\n",
    "    )\n",
    "    (coche \n",
    "        (modelo modelo2)\n",
    "        (precio 12500)\n",
    "        (maletero pequeno)\n",
    "        (caballo 80)\n",
    "        (abs si)\n",
    "        (consumo 4.9)\n",
    "    )\n",
    "    (coche \n",
    "        (modelo modelo3)\n",
    "        (precio 13000)\n",
    "        (maletero mediano)\n",
    "        (caballo 100)\n",
    "        (abs si)\n",
    "        (consumo 7.8)\n",
    "    )\n",
    "    (coche \n",
    "        (modelo modelo4)\n",
    "        (precio 14000)\n",
    "        (maletero grande)\n",
    "        (caballo 125)\n",
    "        (abs si)\n",
    "        (consumo 6.0)\n",
    "    )\n",
    "    (coche \n",
    "        (modelo modelo5)\n",
    "        (precio 15000)\n",
    "        (maletero pequeno)\n",
    "        (caballo 147)\n",
    "        (abs si)\n",
    "        (consumo 8.5)\n",
    "    )\n",
    ")"
   ]
  },
  {
   "cell_type": "code",
   "execution_count": 6,
   "metadata": {},
   "outputs": [
    {
     "name": "stdout",
     "output_type": "stream",
     "text": [
      "f-0     (initial-fact)\n",
      "f-1     (coche (modelo modelo1) (precio 12000) (maletero pequeno) (caballo 65) (abs no) (consumo 4.7))\n",
      "f-2     (coche (modelo modelo2) (precio 12500) (maletero pequeno) (caballo 80) (abs si) (consumo 4.9))\n",
      "f-3     (coche (modelo modelo3) (precio 13000) (maletero mediano) (caballo 100) (abs si) (consumo 7.8))\n",
      "f-4     (coche (modelo modelo4) (precio 14000) (maletero grande) (caballo 125) (abs si) (consumo 6.0))\n",
      "f-5     (coche (modelo modelo5) (precio 15000) (maletero pequeno) (caballo 147) (abs si) (consumo 8.5))\n",
      "For a total of 6 facts."
     ]
    }
   ],
   "source": [
    "(facts)"
   ]
  }
 ],
 "metadata": {
  "kernelspec": {
   "display_name": "CLIPS",
   "language": "",
   "name": "clips"
  },
  "language_info": {
   "file_extension": "clp",
   "mimetype": "text/x-clips",
   "name": "clips",
   "version": "6.30"
  }
 },
 "nbformat": 4,
 "nbformat_minor": 2
}
